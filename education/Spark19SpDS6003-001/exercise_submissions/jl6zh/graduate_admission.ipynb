{
 "cells": [
  {
   "cell_type": "markdown",
   "metadata": {},
   "source": [
    "## DS6003 Homework01_Spark\n",
    "## Jingyi Luo (jl6zh)"
   ]
  },
  {
   "cell_type": "code",
   "execution_count": 1,
   "metadata": {},
   "outputs": [],
   "source": [
    "import pyspark\n",
    "from os import listdir\n",
    "from os.path import isfile, join\n",
    "import boto3\n",
    "import pandas as pd\n",
    "from sagemaker import get_execution_role\n",
    "from pyspark.sql.types import LongType, StringType, StructField, StructType, BooleanType, ArrayType, IntegerType"
   ]
  },
  {
   "cell_type": "markdown",
   "metadata": {},
   "source": [
    "### Setting up spark environment"
   ]
  },
  {
   "cell_type": "code",
   "execution_count": 2,
   "metadata": {},
   "outputs": [],
   "source": [
    "conf = pyspark.SparkConf().setAppName('odl').setMaster('local')\n",
    "sc = pyspark.SparkContext(conf=conf)\n",
    "sqlc = pyspark.sql.SQLContext(sc)"
   ]
  },
  {
   "cell_type": "markdown",
   "metadata": {},
   "source": [
    "### Read in data from S3"
   ]
  },
  {
   "cell_type": "code",
   "execution_count": 20,
   "metadata": {},
   "outputs": [
    {
     "data": {
      "text/plain": [
       "DataFrame[Serial_No.: bigint, GRE_Score: bigint, TOEFL_Score: bigint, University_Rating: bigint, SOP: double, LOR: double, CGPA: double, Research: bigint, Chance_of_Admit: double]"
      ]
     },
     "execution_count": 20,
     "metadata": {},
     "output_type": "execute_result"
    }
   ],
   "source": [
    "# read in data from S3 as a pandas dataframe\n",
    "role = get_execution_role()\n",
    "bucket = 'odl-spark19spds6003-001'\n",
    "data_key = 'jl6zh/Admission_Predict.csv'\n",
    "data_location = 's3://{}/{}'.format(bucket, data_key)\n",
    "pddf = pd.read_csv(data_location)\n",
    "\n",
    "# replace space in column names with underscore\n",
    "pddf.columns = [x.strip().replace(' ', '_') for x in pddf.columns]\n",
    "\n",
    "# convert pandas dataframe to spark dataframe\n",
    "df = sqlc.createDataFrame(pddf)\n",
    "df"
   ]
  },
  {
   "cell_type": "code",
   "execution_count": 21,
   "metadata": {},
   "outputs": [
    {
     "data": {
      "text/plain": [
       "[Row(Serial_No.=1, GRE_Score=337, TOEFL_Score=118, University_Rating=4, SOP=4.5, LOR=4.5, CGPA=9.65, Research=1, Chance_of_Admit=0.92),\n",
       " Row(Serial_No.=2, GRE_Score=324, TOEFL_Score=107, University_Rating=4, SOP=4.0, LOR=4.5, CGPA=8.87, Research=1, Chance_of_Admit=0.76),\n",
       " Row(Serial_No.=3, GRE_Score=316, TOEFL_Score=104, University_Rating=3, SOP=3.0, LOR=3.5, CGPA=8.0, Research=1, Chance_of_Admit=0.72)]"
      ]
     },
     "execution_count": 21,
     "metadata": {},
     "output_type": "execute_result"
    }
   ],
   "source": [
    "df.take(3)"
   ]
  },
  {
   "cell_type": "markdown",
   "metadata": {},
   "source": [
    "### Convert to parquet"
   ]
  },
  {
   "cell_type": "code",
   "execution_count": 20,
   "metadata": {},
   "outputs": [
    {
     "data": {
      "text/plain": [
       "[Row(Serial_No.=1, GRE Score=337, TOEFL Score=118, University Rating=4, SOP=4.5, LOR =4.5, CGPA=9.65, Research=1, Chance of Admit =0.92)]"
      ]
     },
     "execution_count": 20,
     "metadata": {},
     "output_type": "execute_result"
    }
   ],
   "source": [
    "#df = df.withColumnRenamed(\"Serial No.\", \"Serial_No.\")\n",
    "#df.take(1)"
   ]
  },
  {
   "cell_type": "code",
   "execution_count": 24,
   "metadata": {},
   "outputs": [],
   "source": [
    "parquetPath = '/home/ec2-user/SageMaker/jl6zh/homework/data_parq'\n",
    "df.write.parquet(parquetPath)"
   ]
  },
  {
   "cell_type": "markdown",
   "metadata": {},
   "source": [
    "### Write parquet to S3"
   ]
  },
  {
   "cell_type": "code",
   "execution_count": 25,
   "metadata": {},
   "outputs": [],
   "source": [
    "s3 = boto3.resource('s3')\n",
    "files = [f for f in listdir(parquetPath) if isfile(join(parquetPath, f))]\n",
    "for f in files:\n",
    "    s3.Bucket(bucket).upload_file(parquetPath+'/'+f, 'jl6zh/parq_'+f)"
   ]
  },
  {
   "cell_type": "markdown",
   "metadata": {},
   "source": [
    "### Read parquet from S3\n",
    "### Make Spark dataframe from parquet"
   ]
  },
  {
   "cell_type": "code",
   "execution_count": 44,
   "metadata": {},
   "outputs": [
    {
     "data": {
      "text/plain": [
       "DataFrame[Serial_No.: bigint, GRE_Score: bigint, TOEFL_Score: bigint, University_Rating: bigint, SOP: double, LOR: double, CGPA: double, Research: bigint, Chance_of_Admit: double]"
      ]
     },
     "execution_count": 44,
     "metadata": {},
     "output_type": "execute_result"
    }
   ],
   "source": [
    "# write to spark dataframe from parquet locally\n",
    "df = sqlc.read.parquet(parquetPath)\n",
    "df\n",
    "#parquetFile = sqlc.read.parquet(\"s3://odl-spark19spds6003-001/jl6zh/parq_/*\")"
   ]
  },
  {
   "cell_type": "code",
   "execution_count": 45,
   "metadata": {},
   "outputs": [
    {
     "name": "stdout",
     "output_type": "stream",
     "text": [
      "root\n",
      " |-- Serial_No.: long (nullable = true)\n",
      " |-- GRE_Score: long (nullable = true)\n",
      " |-- TOEFL_Score: long (nullable = true)\n",
      " |-- University_Rating: long (nullable = true)\n",
      " |-- SOP: double (nullable = true)\n",
      " |-- LOR: double (nullable = true)\n",
      " |-- CGPA: double (nullable = true)\n",
      " |-- Research: long (nullable = true)\n",
      " |-- Chance_of_Admit: double (nullable = true)\n",
      "\n"
     ]
    }
   ],
   "source": [
    "df.printSchema()"
   ]
  },
  {
   "cell_type": "markdown",
   "metadata": {},
   "source": [
    "### ML pipeline"
   ]
  },
  {
   "cell_type": "markdown",
   "metadata": {},
   "source": [
    "#### select a demo data"
   ]
  },
  {
   "cell_type": "code",
   "execution_count": 46,
   "metadata": {},
   "outputs": [
    {
     "data": {
      "text/plain": [
       "DataFrame[Serial_No.: bigint, GRE_Score: bigint, TOEFL_Score: bigint, University_Rating: bigint, SOP: double, LOR: double, CGPA: double, Research: bigint, Chance_of_Admit: double]"
      ]
     },
     "metadata": {},
     "output_type": "display_data"
    }
   ],
   "source": [
    "display(df)"
   ]
  },
  {
   "cell_type": "code",
   "execution_count": 47,
   "metadata": {},
   "outputs": [
    {
     "data": {
      "text/plain": [
       "[Row(Serial_No.=1, GRE_Score=337, TOEFL_Score=118, University_Rating=4, SOP=4.5, LOR=4.5, CGPA=9.65, Research=1, Chance_of_Admit=0.92),\n",
       " Row(Serial_No.=2, GRE_Score=324, TOEFL_Score=107, University_Rating=4, SOP=4.0, LOR=4.5, CGPA=8.87, Research=1, Chance_of_Admit=0.76)]"
      ]
     },
     "execution_count": 47,
     "metadata": {},
     "output_type": "execute_result"
    }
   ],
   "source": [
    "df.take(2)"
   ]
  },
  {
   "cell_type": "code",
   "execution_count": 48,
   "metadata": {},
   "outputs": [],
   "source": [
    "df = df.select('TOEFL_Score', 'Chance_of_Admit')"
   ]
  },
  {
   "cell_type": "markdown",
   "metadata": {},
   "source": [
    "#### Make Training and Test sets"
   ]
  },
  {
   "cell_type": "code",
   "execution_count": 49,
   "metadata": {},
   "outputs": [
    {
     "name": "stdout",
     "output_type": "stream",
     "text": [
      "training set N = 307, test set N = 93\n"
     ]
    }
   ],
   "source": [
    "seed = 8\n",
    "(testDF, trainingDF) = df.randomSplit((0.20, 0.80), seed=seed)\n",
    "print('training set N = {}, test set N = {}'.format(trainingDF.count(), testDF.count()))"
   ]
  },
  {
   "cell_type": "markdown",
   "metadata": {},
   "source": [
    "#### Vectorization - spark special sauce"
   ]
  },
  {
   "cell_type": "code",
   "execution_count": 50,
   "metadata": {},
   "outputs": [],
   "source": [
    "from pyspark.ml.linalg import Vectors, VectorUDT"
   ]
  },
  {
   "cell_type": "code",
   "execution_count": 55,
   "metadata": {},
   "outputs": [],
   "source": [
    "# make a user defined function (udf)\n",
    "sqlc.registerFunction('oneElementVec', lambda d: Vectors.dense([d]), returnType=VectorUDT())\n",
    "trainingDF = trainingDF.selectExpr(\"Chance_of_Admit\", \"oneElementVec(TOEFL_Score) as TOEFL_score\")\n",
    "testDF = testDF.selectExpr(\"Chance_of_Admit\", \"oneElementVec(TOEFL_Score) as TOEFL_score\")"
   ]
  },
  {
   "cell_type": "code",
   "execution_count": 56,
   "metadata": {},
   "outputs": [
    {
     "name": "stdout",
     "output_type": "stream",
     "text": [
      "+---------------+-----------+\n",
      "|Chance_of_Admit|TOEFL_score|\n",
      "+---------------+-----------+\n",
      "|           0.46|     [93.0]|\n",
      "|           0.46|     [93.0]|\n",
      "|           0.44|     [95.0]|\n",
      "|           0.49|     [95.0]|\n",
      "|           0.34|     [96.0]|\n",
      "+---------------+-----------+\n",
      "only showing top 5 rows\n",
      "\n"
     ]
    }
   ],
   "source": [
    "trainingDF.show(5)"
   ]
  },
  {
   "cell_type": "code",
   "execution_count": 58,
   "metadata": {},
   "outputs": [],
   "source": [
    "testDF = testDF.selectExpr(\"Chance_of_Admit\", \"oneElementVec(TOEFL_Score) as TOEFL_score\")"
   ]
  },
  {
   "cell_type": "code",
   "execution_count": 61,
   "metadata": {},
   "outputs": [
    {
     "name": "stdout",
     "output_type": "stream",
     "text": [
      "+---------------+-----------+\n",
      "|Chance_of_Admit|TOEFL_score|\n",
      "+---------------+-----------+\n",
      "|           0.51|     [92.0]|\n",
      "|           0.42|     [94.0]|\n",
      "|           0.43|     [96.0]|\n",
      "|           0.64|     [97.0]|\n",
      "|           0.56|     [98.0]|\n",
      "+---------------+-----------+\n",
      "only showing top 5 rows\n",
      "\n"
     ]
    }
   ],
   "source": [
    "testDF.show(5)"
   ]
  },
  {
   "cell_type": "code",
   "execution_count": 62,
   "metadata": {},
   "outputs": [
    {
     "name": "stdout",
     "output_type": "stream",
     "text": [
      "DataFrame[Chance_of_Admit: double, TOEFL_score: vector]\n"
     ]
    }
   ],
   "source": [
    "print(testDF.orderBy(testDF.Chance_of_Admit.desc()).limit(5))"
   ]
  },
  {
   "cell_type": "code",
   "execution_count": 63,
   "metadata": {},
   "outputs": [],
   "source": [
    "# rename to make ML engine happy\n",
    "trainingDF = trainingDF.withColumnRenamed(\"Chance_of_Admit\", \"label\").withColumnRenamed(\"TOEFL_Score\", \"features\")\n",
    "testDF = testDF.withColumnRenamed(\"Chance_of_Admit\", \"label\").withColumnRenamed(\"TOEFL_Score\", \"features\")"
   ]
  },
  {
   "cell_type": "markdown",
   "metadata": {},
   "source": [
    "#### ML time for real"
   ]
  },
  {
   "cell_type": "code",
   "execution_count": 64,
   "metadata": {},
   "outputs": [],
   "source": [
    "from pyspark.ml.regression import LinearRegression, LinearRegressionModel\n",
    "\n",
    "# train model\n",
    "lr = LinearRegression()\n",
    "lrModel = lr.fit(trainingDF)"
   ]
  },
  {
   "cell_type": "code",
   "execution_count": 67,
   "metadata": {},
   "outputs": [
    {
     "name": "stdout",
     "output_type": "stream",
     "text": [
      "[Row(label=0.97, features=DenseVector([119.0]), prediction=0.9506259411702602), Row(label=0.97, features=DenseVector([120.0]), prediction=0.970112726788843), Row(label=0.96, features=DenseVector([113.0]), prediction=0.8337052274587633), Row(label=0.95, features=DenseVector([119.0]), prediction=0.9506259411702602), Row(label=0.95, features=DenseVector([120.0]), prediction=0.970112726788843)]\n"
     ]
    }
   ],
   "source": [
    "# prediction for test set\n",
    "predictionsAndLabelsDF = lrModel.transform(testDF)\n",
    "print(predictionsAndLabelsDF.orderBy(predictionsAndLabelsDF.label.desc()).take(5))"
   ]
  },
  {
   "cell_type": "code",
   "execution_count": null,
   "metadata": {},
   "outputs": [],
   "source": [
    "type(lrModel)"
   ]
  },
  {
   "cell_type": "code",
   "execution_count": 87,
   "metadata": {},
   "outputs": [
    {
     "name": "stdout",
     "output_type": "stream",
     "text": [
      "+-----+--------+------------------+\n",
      "|label|features|        prediction|\n",
      "+-----+--------+------------------+\n",
      "| 0.51|  [92.0]|0.4244827294685245|\n",
      "| 0.42|  [94.0]|0.4634563007056902|\n",
      "| 0.43|  [96.0]|0.5024298719428557|\n",
      "| 0.64|  [97.0]|0.5219166575614385|\n",
      "| 0.56|  [98.0]|0.5414034431800212|\n",
      "| 0.59|  [98.0]|0.5414034431800212|\n",
      "| 0.47|  [99.0]|0.5608902287986042|\n",
      "| 0.54|  [99.0]|0.5608902287986042|\n",
      "| 0.57|  [99.0]|0.5608902287986042|\n",
      "| 0.63|  [99.0]|0.5608902287986042|\n",
      "| 0.71|  [99.0]|0.5608902287986042|\n",
      "| 0.76|  [99.0]|0.5608902287986042|\n",
      "| 0.56| [100.0]|0.5803770144171869|\n",
      "| 0.59| [100.0]|0.5803770144171869|\n",
      "| 0.63| [100.0]|0.5803770144171869|\n",
      "| 0.68| [100.0]|0.5803770144171869|\n",
      "| 0.46| [101.0]|0.5998638000357697|\n",
      "| 0.62| [101.0]|0.5998638000357697|\n",
      "| 0.63| [102.0]|0.6193505856543526|\n",
      "| 0.77| [102.0]|0.6193505856543526|\n",
      "+-----+--------+------------------+\n",
      "only showing top 20 rows\n",
      "\n"
     ]
    }
   ],
   "source": [
    "predictionsAndLabelsDF.show()"
   ]
  },
  {
   "cell_type": "markdown",
   "metadata": {},
   "source": [
    "#### Model Evaluation"
   ]
  },
  {
   "cell_type": "code",
   "execution_count": 69,
   "metadata": {},
   "outputs": [
    {
     "name": "stdout",
     "output_type": "stream",
     "text": [
      "labelCol: label column name. (default: label)\n",
      "metricName: metric name in evaluation - one of:\n",
      "                       rmse - root mean squared error (default)\n",
      "                       mse - mean squared error\n",
      "                       r2 - r^2 metric\n",
      "                       mae - mean absolute error. (default: rmse)\n",
      "predictionCol: prediction column name. (default: prediction)\n"
     ]
    }
   ],
   "source": [
    "from pyspark.ml.evaluation import RegressionEvaluator\n",
    "eval = RegressionEvaluator()\n",
    "print(eval.explainParams())"
   ]
  },
  {
   "cell_type": "code",
   "execution_count": 70,
   "metadata": {},
   "outputs": [
    {
     "data": {
      "text/plain": [
       "pyspark.ml.evaluation.RegressionEvaluator"
      ]
     },
     "execution_count": 70,
     "metadata": {},
     "output_type": "execute_result"
    }
   ],
   "source": [
    "type(eval)"
   ]
  },
  {
   "cell_type": "code",
   "execution_count": 71,
   "metadata": {},
   "outputs": [
    {
     "data": {
      "text/plain": [
       "0.0932381440019598"
      ]
     },
     "execution_count": 71,
     "metadata": {},
     "output_type": "execute_result"
    }
   ],
   "source": [
    "eval.setMetricName('rmse').evaluate(predictionsAndLabelsDF)"
   ]
  },
  {
   "cell_type": "code",
   "execution_count": 72,
   "metadata": {},
   "outputs": [
    {
     "data": {
      "text/plain": [
       "0.5539773876920392"
      ]
     },
     "execution_count": 72,
     "metadata": {},
     "output_type": "execute_result"
    }
   ],
   "source": [
    "eval.setMetricName('r2').evaluate(predictionsAndLabelsDF)"
   ]
  },
  {
   "cell_type": "markdown",
   "metadata": {},
   "source": [
    "### Visualizaton"
   ]
  },
  {
   "cell_type": "code",
   "execution_count": 75,
   "metadata": {},
   "outputs": [
    {
     "name": "stdout",
     "output_type": "stream",
     "text": [
      "   TOEFL_Score  Chance_of_Admit\n",
      "0          118             0.92\n",
      "1          107             0.76\n",
      "2          104             0.72\n",
      "3          110             0.80\n",
      "4          103             0.65\n"
     ]
    }
   ],
   "source": [
    "# convert spark dataframe to pandas dataframe\n",
    "pddf1 = df.toPandas()\n",
    "print(pddf1.head(5))"
   ]
  },
  {
   "cell_type": "code",
   "execution_count": 92,
   "metadata": {
    "scrolled": true
   },
   "outputs": [
    {
     "data": {
      "image/png": "[encoded data removed]",
      "text/plain": [
       "<Figure size 432x288 with 1 Axes>"
      ]
     },
     "metadata": {},
     "output_type": "display_data"
    }
   ],
   "source": [
    "# plot TOEFL_Score against Chance_of_Admit\n",
    "import matplotlib.pyplot as plt\n",
    "import matplotlib.path as mpath\n",
    "import numpy as np\n",
    "\n",
    "star = mpath.Path.unit_regular_star(6)\n",
    "circle = mpath.Path.unit_circle()\n",
    "# concatenate the circle with an internal cutout of the star\n",
    "verts = np.concatenate([circle.vertices, star.vertices[::-1, ...]])\n",
    "codes = np.concatenate([circle.codes, star.codes])\n",
    "cut_star = mpath.Path(verts, codes)\n",
    "\n",
    "plt.plot(pddf1.TOEFL_Score, pddf1.Chance_of_Admit, 'bo', marker=cut_star, markersize=15)\n",
    "plt.title('TOFEL Scores VS Chance of Admit', fontsize=14)\n",
    "plt.xlabel(\"TOFEL Scores\")\n",
    "plt.ylabel('Chance of Admit')\n",
    "plt.show()"
   ]
  },
  {
   "cell_type": "code",
   "execution_count": 94,
   "metadata": {},
   "outputs": [
    {
     "data": {
      "image/png": "[encoded data removed]",
      "text/plain": [
       "<Figure size 432x288 with 1 Axes>"
      ]
     },
     "metadata": {},
     "output_type": "display_data"
    }
   ],
   "source": [
    "# plot TOFEL_Score distribution\n",
    "plt.figure()\n",
    "pddf1['TOEFL_Score'].hist()\n",
    "plt.title('TOFEL Scores Distribution', fontsize=14)\n",
    "plt.xlabel(\"TOFEL Scores\")\n",
    "plt.ylabel('Counts')\n",
    "plt.show()"
   ]
  },
  {
   "cell_type": "code",
   "execution_count": 96,
   "metadata": {},
   "outputs": [
    {
     "data": {
      "image/png": "[encoded data removed]",
      "text/plain": [
       "<Figure size 432x288 with 1 Axes>"
      ]
     },
     "metadata": {},
     "output_type": "display_data"
    }
   ],
   "source": [
    "# plot Chance_of_Admit distribution\n",
    "plt.figure()\n",
    "pddf1['Chance_of_Admit'].hist()\n",
    "plt.title('Distribution for Chance of Admit', fontsize=14)\n",
    "plt.xlabel(\"Chance of Admit\")\n",
    "plt.ylabel('Counts')\n",
    "plt.show()"
   ]
  },
  {
   "cell_type": "code",
   "execution_count": 23,
   "metadata": {},
   "outputs": [],
   "source": [
    "#rm -rf data_parq"
   ]
  },
  {
   "cell_type": "code",
   "execution_count": null,
   "metadata": {},
   "outputs": [],
   "source": [
    "#fid = open(\"test_data.csv\", \"w\")\n",
    "#fid.write(\"a,b,c\\n\")\n",
    "#fid.write(\"1,2,3\\n\")\n",
    "#fid.write(\"4,5,6\\n\")\n",
    "#fid.close()"
   ]
  }
 ],
 "metadata": {
  "kernelspec": {
   "display_name": "conda_python3",
   "language": "python",
   "name": "conda_python3"
  },
  "language_info": {
   "codemirror_mode": {
    "name": "ipython",
    "version": 3
   },
   "file_extension": ".py",
   "mimetype": "text/x-python",
   "name": "python",
   "nbconvert_exporter": "python",
   "pygments_lexer": "ipython3",
   "version": "3.6.5"
  }
 },
 "nbformat": 4,
 "nbformat_minor": 2
}
